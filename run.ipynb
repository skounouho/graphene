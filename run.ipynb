{
 "cells": [
  {
   "cell_type": "code",
   "execution_count": 7,
   "metadata": {},
   "outputs": [],
   "source": [
    "from lammps import lammps\n",
    "import numpy as np"
   ]
  },
  {
   "cell_type": "code",
   "execution_count": 3,
   "metadata": {},
   "outputs": [],
   "source": [
    "lmp = lammps()\n",
    "lmp.file(\"in.lammps\")"
   ]
  },
  {
   "cell_type": "code",
   "execution_count": 20,
   "metadata": {},
   "outputs": [],
   "source": [
    "total_steps = 400\n",
    "num_steps = 200 # between snapshots\n",
    "num_snaps = int(total_steps / num_steps)\n",
    "num_atoms = 272\n",
    "\n",
    "skip_rows = 9\n",
    "data = []\n",
    "\n",
    "# read snapshot data from dump file\n",
    "for i in range(num_snaps):\n",
    "    x = np.loadtxt(\"dump.graphene\", skiprows=skip_rows, max_rows=num_atoms)\n",
    "    skip_rows += num_atoms + 9\n",
    "    data.append(x)\n",
    "\n",
    "# format snapshot data in snapshot matrix\n",
    "X = np.vstack([data[i][:, 1:4].flatten() for i in range(num_snaps)]).T\n",
    "\n",
    "# perform SVD\n",
    "u, s, vh = np.linalg.svd(X)\n",
    "\n",
    "# save phi in NPZ\n",
    "np.savetxt(\"phi.txt\", u, delimiter=\" \")"
   ]
  },
  {
   "cell_type": "code",
   "execution_count": 23,
   "metadata": {},
   "outputs": [
    {
     "ename": "Exception",
     "evalue": "ERROR: Loading python integrator module failure (src/PYTHON/fix_python_move.cpp:64)",
     "output_type": "error",
     "traceback": [
      "\u001b[1;31m---------------------------------------------------------------------------\u001b[0m",
      "\u001b[1;31mException\u001b[0m                                 Traceback (most recent call last)",
      "Cell \u001b[1;32mIn[23], line 2\u001b[0m\n\u001b[0;32m      1\u001b[0m lmp \u001b[38;5;241m=\u001b[39m lammps()\n\u001b[1;32m----> 2\u001b[0m lmp\u001b[38;5;241m.\u001b[39mfile(\u001b[38;5;124m\"\u001b[39m\u001b[38;5;124min.lammps_rom\u001b[39m\u001b[38;5;124m\"\u001b[39m)\n",
      "File \u001b[1;32m~\\AppData\\Local\\LAMMPS 64-bit 2Aug2023 with Python\\Python\\lammps\\core.py:610\u001b[0m, in \u001b[0;36mlammps.file\u001b[1;34m(self, path)\u001b[0m\n\u001b[0;32m    607\u001b[0m \u001b[38;5;28;01mif\u001b[39;00m path: path \u001b[38;5;241m=\u001b[39m path\u001b[38;5;241m.\u001b[39mencode()\n\u001b[0;32m    608\u001b[0m \u001b[38;5;28;01melse\u001b[39;00m: \u001b[38;5;28;01mreturn\u001b[39;00m\n\u001b[1;32m--> 610\u001b[0m \u001b[38;5;28;01mwith\u001b[39;00m ExceptionCheck(\u001b[38;5;28mself\u001b[39m):\n\u001b[0;32m    611\u001b[0m   \u001b[38;5;28mself\u001b[39m\u001b[38;5;241m.\u001b[39mlib\u001b[38;5;241m.\u001b[39mlammps_file(\u001b[38;5;28mself\u001b[39m\u001b[38;5;241m.\u001b[39mlmp, path)\n",
      "File \u001b[1;32m~\\AppData\\Local\\LAMMPS 64-bit 2Aug2023 with Python\\Python\\lammps\\core.py:49\u001b[0m, in \u001b[0;36mExceptionCheck.__exit__\u001b[1;34m(self, exc_type, exc_value, traceback)\u001b[0m\n\u001b[0;32m     47\u001b[0m \u001b[38;5;28;01mdef\u001b[39;00m \u001b[38;5;21m__exit__\u001b[39m(\u001b[38;5;28mself\u001b[39m, exc_type, exc_value, traceback):\n\u001b[0;32m     48\u001b[0m   \u001b[38;5;28;01mif\u001b[39;00m \u001b[38;5;28mself\u001b[39m\u001b[38;5;241m.\u001b[39mlmp\u001b[38;5;241m.\u001b[39mhas_exceptions \u001b[38;5;129;01mand\u001b[39;00m \u001b[38;5;28mself\u001b[39m\u001b[38;5;241m.\u001b[39mlmp\u001b[38;5;241m.\u001b[39mlib\u001b[38;5;241m.\u001b[39mlammps_has_error(\u001b[38;5;28mself\u001b[39m\u001b[38;5;241m.\u001b[39mlmp\u001b[38;5;241m.\u001b[39mlmp):\n\u001b[1;32m---> 49\u001b[0m     \u001b[38;5;28;01mraise\u001b[39;00m \u001b[38;5;28mself\u001b[39m\u001b[38;5;241m.\u001b[39mlmp\u001b[38;5;241m.\u001b[39m_lammps_exception\n",
      "\u001b[1;31mException\u001b[0m: ERROR: Loading python integrator module failure (src/PYTHON/fix_python_move.cpp:64)"
     ]
    }
   ],
   "source": [
    "lmp = lammps()\n",
    "lmp.file(\"in.lammps_rom\")"
   ]
  }
 ],
 "metadata": {
  "kernelspec": {
   "display_name": "base",
   "language": "python",
   "name": "python3"
  },
  "language_info": {
   "codemirror_mode": {
    "name": "ipython",
    "version": 3
   },
   "file_extension": ".py",
   "mimetype": "text/x-python",
   "name": "python",
   "nbconvert_exporter": "python",
   "pygments_lexer": "ipython3",
   "version": "3.12.4"
  }
 },
 "nbformat": 4,
 "nbformat_minor": 2
}
